{
 "cells": [
  {
   "cell_type": "code",
   "execution_count": 1,
   "metadata": {},
   "outputs": [
    {
     "name": "stdout",
     "output_type": "stream",
     "text": [
      "Populating the interactive namespace from numpy and matplotlib\n"
     ]
    }
   ],
   "source": [
    "%pylab inline"
   ]
  },
  {
   "cell_type": "markdown",
   "metadata": {},
   "source": [
    "# Warning\n",
    "never use a for loop to build lambda functions. It will never go the way that you expect.\n",
    "example:"
   ]
  },
  {
   "cell_type": "code",
   "execution_count": 1,
   "metadata": {},
   "outputs": [
    {
     "name": "stdout",
     "output_type": "stream",
     "text": [
      "20\n",
      "20\n",
      "20\n",
      "20\n"
     ]
    }
   ],
   "source": [
    "constants = [2,3,4,5]\n",
    "funs = []\n",
    "for c in constants:\n",
    "    funs.append(lambda x: c*x)\n",
    "\n",
    "for f in funs:\n",
    "    print(f(4))"
   ]
  },
  {
   "cell_type": "markdown",
   "metadata": {},
   "source": [
    "In this example, every lambda function in the `funs` array uses the *last* value of `c` that was assigned during the loop. "
   ]
  },
  {
   "cell_type": "code",
   "execution_count": 2,
   "metadata": {},
   "outputs": [],
   "source": [
    "pylab.rcParams['figure.figsize'] = (8, 6)\n",
    "font = {'size'   : 12}\n",
    "\n",
    "matplotlib.rc('font', **font)\n",
    "from IPython.display import set_matplotlib_formats\n",
    "set_matplotlib_formats('png', 'pdf')"
   ]
  },
  {
   "cell_type": "code",
   "execution_count": 3,
   "metadata": {},
   "outputs": [],
   "source": [
    "from scipy.interpolate import interp1d"
   ]
  },
  {
   "cell_type": "code",
   "execution_count": 4,
   "metadata": {},
   "outputs": [],
   "source": [
    "x=[0.108,0.178,0.261,0.48]\n",
    "y=[611,1001.4,1463,2676]\n",
    "f=interp1d(x,y)"
   ]
  },
  {
   "cell_type": "code",
   "execution_count": 5,
   "metadata": {},
   "outputs": [
    {
     "data": {
      "text/plain": [
       "array(1030.06369157)"
      ]
     },
     "execution_count": 5,
     "metadata": {},
     "output_type": "execute_result"
    }
   ],
   "source": [
    "f(.183154)"
   ]
  },
  {
   "cell_type": "code",
   "execution_count": 12,
   "metadata": {},
   "outputs": [
    {
     "data": {
      "text/plain": [
       "array(1031.5374747)"
      ]
     },
     "execution_count": 12,
     "metadata": {},
     "output_type": "execute_result"
    }
   ],
   "source": [
    "f(.183419)"
   ]
  },
  {
   "cell_type": "code",
   "execution_count": 7,
   "metadata": {},
   "outputs": [
    {
     "data": {
      "text/plain": [
       "[<matplotlib.lines.Line2D at 0x7fb47e624e10>]"
      ]
     },
     "execution_count": 7,
     "metadata": {},
     "output_type": "execute_result"
    },
    {
     "data": {
      "application/pdf": "[encoded data removed]",
      "image/png": "[encoded data removed]",
      "text/plain": [
       "<Figure size 576x432 with 1 Axes>"
      ]
     },
     "metadata": {},
     "output_type": "display_data"
    }
   ],
   "source": [
    "plot(x,y,'o')\n",
    "highresx=np.arange(0.108,0.48,.001)\n",
    "plot(highresx,f(highresx))"
   ]
  },
  {
   "cell_type": "code",
   "execution_count": 6,
   "metadata": {},
   "outputs": [
    {
     "ename": "TypeError",
     "evalue": "__init__() missing 1 required positional argument: 'y'",
     "output_type": "error",
     "traceback": [
      "\u001b[0;31m---------------------------------------------------------------------------\u001b[0m",
      "\u001b[0;31mTypeError\u001b[0m                                 Traceback (most recent call last)",
      "\u001b[0;32m<ipython-input-6-518876352f4a>\u001b[0m in \u001b[0;36m<module>\u001b[0;34m()\u001b[0m\n\u001b[0;32m----> 1\u001b[0;31m \u001b[0mf\u001b[0m\u001b[0;34m=\u001b[0m\u001b[0minterp1d\u001b[0m\u001b[0;34m(\u001b[0m\u001b[0mnp\u001b[0m\u001b[0;34m.\u001b[0m\u001b[0mgenfromtxt\u001b[0m\u001b[0;34m(\u001b[0m\u001b[0;34m'calibration/2WIRE'\u001b[0m\u001b[0;34m,\u001b[0m\u001b[0mskip_header\u001b[0m\u001b[0;34m=\u001b[0m\u001b[0;36m3\u001b[0m\u001b[0;34m)\u001b[0m\u001b[0;34m.\u001b[0m\u001b[0mT\u001b[0m\u001b[0;34m)\u001b[0m\u001b[0;34m\u001b[0m\u001b[0m\n\u001b[0m",
      "\u001b[0;31mTypeError\u001b[0m: __init__() missing 1 required positional argument: 'y'"
     ]
    }
   ],
   "source": [
    "f=interp1d(np.genfromtxt('calibration/2WIRE',skip_header=3).T)"
   ]
  },
  {
   "cell_type": "code",
   "execution_count": 9,
   "metadata": {
    "scrolled": false
   },
   "outputs": [
    {
     "data": {
      "text/plain": [
       "array([['GRT0', '4th stage bus', 'R', 'RO-600.txt'],\n",
       "       ['GRT1', '1K Cold Link', 'R', 'RX-102A.txt'],\n",
       "       ['GRT2', 'open', 'R', 'RuOx2.txt'],\n",
       "       ['GRT3', 'open', 'R', 'RuOx2.txt'],\n",
       "       ['GRT4', '3rd stage bus', 'R', 'RO-600.txt'],\n",
       "       ['GRT5', 'Nb shield (top)', 'R', 'RX-102A.txt'],\n",
       "       ['GRT6', 'Det Pkg (Array)', 'R', 'RX-102A.txt'],\n",
       "       ['GRT7', 'Det Pkg (Cu Back)', 'R', 'RX-102A.txt'],\n",
       "       ['4-WIRE0', '1st PT head', 'V', 'DT-670_Diode2.txt'],\n",
       "       ['4-WIRE1', '40-4K HSw Base', 'V', 'DT-670_Diode2.txt'],\n",
       "       ['4-WIRE2', 'ADR baseplate', 'V', 'DT-670_Diode1.txt'],\n",
       "       ['4-WIRE3', '2nd cold link', 'V', 'DT-670_Diode3.txt'],\n",
       "       ['2-WIRE0', 'open', 'R', '400_Carbon_Resistor.txt'],\n",
       "       ['2-WIRE1', 'open', 'R', '400_Carbon_Resistor.txt'],\n",
       "       ['2-WIRE2', 'open', 'R', '400_Carbon_Resistor.txt'],\n",
       "       ['2-WIRE3', 'ADR carbon resistor', 'R', '400_Carbon_Resistor.txt'],\n",
       "       ['2-WIRE4', 'ADR diode', 'V', 'DT-670.txt'],\n",
       "       ['2-WIRE5', 'grating', 'V', 'DT-670.txt'],\n",
       "       ['2-WIRE6', '4K Board box', 'V', 'DT-670_Diode4.txt'],\n",
       "       ['2-WIRE7', 'ADR HSw Short', 'R', 'ADR_Short_sensing.txt']],\n",
       "      dtype='<U23')"
      ]
     },
     "execution_count": 9,
     "metadata": {},
     "output_type": "execute_result"
    }
   ],
   "source": [
    "np.genfromtxt('calibration/Sensor_ID.txt',skip_header=2,delimiter='\\t',dtype=str)"
   ]
  },
  {
   "cell_type": "code",
   "execution_count": 11,
   "metadata": {},
   "outputs": [
    {
     "data": {
      "text/plain": [
       "'asdfasd'"
      ]
     },
     "execution_count": 11,
     "metadata": {},
     "output_type": "execute_result"
    }
   ],
   "source": [
    "\"asdfa-sdf\"[0:-1].replace('-','')"
   ]
  },
  {
   "cell_type": "code",
   "execution_count": 13,
   "metadata": {},
   "outputs": [
    {
     "data": {
      "text/plain": [
       "2"
      ]
     },
     "execution_count": 13,
     "metadata": {},
     "output_type": "execute_result"
    }
   ],
   "source": [
    "['asdf','sdfg','dfgh','fghj'].index('dfgh')"
   ]
  },
  {
   "cell_type": "code",
   "execution_count": 15,
   "metadata": {},
   "outputs": [
    {
     "data": {
      "text/plain": [
       "'asdf'"
      ]
     },
     "execution_count": 15,
     "metadata": {},
     "output_type": "execute_result"
    }
   ],
   "source": [
    "f =lambda x: x\n",
    "f(\"asdf\")"
   ]
  },
  {
   "cell_type": "code",
   "execution_count": 16,
   "metadata": {},
   "outputs": [
    {
     "data": {
      "text/plain": [
       "1"
      ]
     },
     "execution_count": 16,
     "metadata": {},
     "output_type": "execute_result"
    }
   ],
   "source": [
    "min(1,2)"
   ]
  },
  {
   "cell_type": "code",
   "execution_count": 37,
   "metadata": {},
   "outputs": [],
   "source": [
    "def getGRTSuffix(n):\n",
    "    if n<4:\n",
    "        return '0-3'\n",
    "    else:\n",
    "        return '4-7'\n",
    "\n",
    "class Interpolators:\n",
    "    def __init__(self):\n",
    "\n",
    "        sensors_id = np.genfromtxt('calibration/Sensor_ID.txt',\n",
    "                                   skip_header=2,\n",
    "                                   delimiter='\\t',\n",
    "                                   dtype=str)\n",
    "        self.sensors_interp = {'2WIRE':[None for x in range(8)],\n",
    "                '4WIRE':[None for x in range(4)],\n",
    "                'GRT0-3':[None for x in range(4)],\n",
    "                'GRT4-7':[None for x in range(8)]}\n",
    "        self.pre_functions = {'2WIRE':[None for x in range(8)],\n",
    "                '4WIRE':[None for x in range(4)],\n",
    "                'GRT0-3':[None for x in range(4)],\n",
    "                'GRT4-7':[None for x in range(8)]}\n",
    "        for sensor in sensors_id:\n",
    "            snum=int(sensor[0][-1])\n",
    "            card = sensor[0][0:-1].replace('-','')\n",
    "            if card == 'GRT':\n",
    "                card = card+getGRTSuffix(snum)\n",
    "            card_calib = np.genfromtxt('calibration/'+card,skip_header=3).T\n",
    "\n",
    "            card_interps = interp1d(card_calib[1],card_calib[0])\n",
    "            #reversed because first col is resistance in file. I'll be putting in a voltage\n",
    "            #and expecting to get out a resistance.\n",
    "            if sensor[2] == 'R':\n",
    "                self.pre_functions[card][snum] = card_interps\n",
    "\n",
    "            else:\n",
    "                self.pre_functions[card][snum] = preFunction = lambda x: x\n",
    "\n",
    "            sensor_calib = np.genfromtxt('calibration/'+sensor[3],skip_header=3).T\n",
    "            #print(sensor_calib)\n",
    "            sensor_interp = interp1d(sensor_calib[1],sensor_calib[0])\n",
    "            self.sensors_interp[card][snum]=sensor_interp\n",
    "\n",
    "\n",
    "    def go(self,v,card,num):\n",
    "        a = self.sensors_interp[card][num](self.pre_functions[card][num](v))\n",
    "        #print(repr(a))\n",
    "        return float(a)\n",
    "        #interpolators apparently return 0 dimensional numpy arrays...\n",
    "def printer(x):\n",
    "    print(x)\n",
    "    return x"
   ]
  },
  {
   "cell_type": "code",
   "execution_count": 35,
   "metadata": {},
   "outputs": [],
   "source": [
    "i = Interpolators()"
   ]
  },
  {
   "cell_type": "code",
   "execution_count": 14,
   "metadata": {},
   "outputs": [
    {
     "name": "stdout",
     "output_type": "stream",
     "text": [
      "{'GRT4-7': [None, None, None, None, <function Interpolators.__init__.<locals>.<lambda> at 0x7fac857de400>, <function Interpolators.__init__.<locals>.<lambda> at 0x7fac857de9d8>, <function Interpolators.__init__.<locals>.<lambda> at 0x7fac857de488>, <function Interpolators.__init__.<locals>.<lambda> at 0x7fac857de840>], 'GRT0-3': [<function Interpolators.__init__.<locals>.<lambda> at 0x7fac85c25f28>, <function Interpolators.__init__.<locals>.<lambda> at 0x7fac857de048>, <function Interpolators.__init__.<locals>.<lambda> at 0x7fac857de7b8>, <function Interpolators.__init__.<locals>.<lambda> at 0x7fac857de6a8>], '4WIRE': [<function Interpolators.__init__.<locals>.<lambda> at 0x7fac857de950>, <function Interpolators.__init__.<locals>.<lambda> at 0x7fac857de1e0>, <function Interpolators.__init__.<locals>.<lambda> at 0x7fac857de8c8>, <function Interpolators.__init__.<locals>.<lambda> at 0x7fac857de730>], '2WIRE': [<function Interpolators.__init__.<locals>.<lambda> at 0x7fac857de378>, <function Interpolators.__init__.<locals>.<lambda> at 0x7fac857debf8>, <function Interpolators.__init__.<locals>.<lambda> at 0x7fac857def28>, <function Interpolators.__init__.<locals>.<lambda> at 0x7fac857deae8>, <function Interpolators.__init__.<locals>.<lambda> at 0x7fac857dec80>, <function Interpolators.__init__.<locals>.<lambda> at 0x7fac857dee18>, <function Interpolators.__init__.<locals>.<lambda> at 0x7fac857deea0>, <function Interpolators.__init__.<locals>.<lambda> at 0x7fac857ded08>]}\n"
     ]
    }
   ],
   "source": [
    "print(i.sensors_interp)"
   ]
  },
  {
   "cell_type": "code",
   "execution_count": 38,
   "metadata": {},
   "outputs": [
    {
     "data": {
      "text/plain": [
       "0.10461612648277929"
      ]
     },
     "execution_count": 38,
     "metadata": {},
     "output_type": "execute_result"
    }
   ],
   "source": [
    "i.go(2.269,'GRT0-3',0)"
   ]
  },
  {
   "cell_type": "code",
   "execution_count": 16,
   "metadata": {},
   "outputs": [
    {
     "name": "stdout",
     "output_type": "stream",
     "text": [
      "['a', 'b', 'c', 'd']\n"
     ]
    }
   ],
   "source": [
    "test = ['a','b','c','d']\n",
    "test2 = [x for x in test]\n",
    "test3 = [x for x in test2]\n",
    "print(test3)"
   ]
  },
  {
   "cell_type": "code",
   "execution_count": 19,
   "metadata": {},
   "outputs": [],
   "source": [
    "testfile=np.genfromtxt('calibration/GRT0-3',skip_header=3).T"
   ]
  },
  {
   "cell_type": "code",
   "execution_count": 20,
   "metadata": {},
   "outputs": [],
   "source": [
    "testinterp=interp1d(testfile[1],testfile[0])"
   ]
  },
  {
   "cell_type": "code",
   "execution_count": 21,
   "metadata": {},
   "outputs": [
    {
     "data": {
      "text/plain": [
       "array(12801.25153374)"
      ]
     },
     "execution_count": 21,
     "metadata": {},
     "output_type": "execute_result"
    }
   ],
   "source": [
    "testinterp(2.3)"
   ]
  },
  {
   "cell_type": "code",
   "execution_count": null,
   "metadata": {},
   "outputs": [],
   "source": []
  }
 ],
 "metadata": {
  "kernelspec": {
   "display_name": "Python 3",
   "language": "python",
   "name": "python3"
  },
  "language_info": {
   "codemirror_mode": {
    "name": "ipython",
    "version": 3
   },
   "file_extension": ".py",
   "mimetype": "text/x-python",
   "name": "python",
   "nbconvert_exporter": "python",
   "pygments_lexer": "ipython3",
   "version": "3.7.9"
  }
 },
 "nbformat": 4,
 "nbformat_minor": 2
}
